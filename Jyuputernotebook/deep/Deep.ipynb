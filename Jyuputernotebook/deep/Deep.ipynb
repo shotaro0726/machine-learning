{
 "cells": [
  {
   "cell_type": "code",
   "execution_count": 1,
   "metadata": {},
   "outputs": [],
   "source": [
    "import sys"
   ]
  },
  {
   "cell_type": "code",
   "execution_count": 2,
   "metadata": {},
   "outputs": [],
   "source": [
    "sys.path.append('..')\n",
    "import numpy as np\n",
    "import matplotlib.pyplot as plt"
   ]
  },
  {
   "cell_type": "code",
   "execution_count": 3,
   "metadata": {},
   "outputs": [],
   "source": [
    "from dataset import ptb\n",
    "from common.optimizer import SGD\n",
    "from common.time_layers import *"
   ]
  },
  {
   "cell_type": "code",
   "execution_count": 4,
   "metadata": {},
   "outputs": [],
   "source": [
    "class SimpleRnnlm:\n",
    "    def __init__(self,vocab_size, wordvec_size, hidden_size):\n",
    "        V,D,H = vocab_size, wordvec_size, hidden_size\n",
    "        rn = np.random.randn\n",
    "        \n",
    "        embed_W = (rn(V,D) / 100).astype('f')\n",
    "        rnn_Wx = (rn(D,H) / np.sqrt(D)).astype('f')\n",
    "        rnn_Wh = (rn(H,H) / np.sqrt(H)).astype('f')\n",
    "        rnn_b = np.zeros(H).astype('f')\n",
    "        affine_W = (rn(H,V) / np.sqrt(H)).astype('f')\n",
    "        affine_b = np.zeros(V).astype('f')\n",
    "        \n",
    "        self.layers = [\n",
    "            TimeEmbedding(embed_W),\n",
    "            TimeRNN(rnn_Wx,rnn_Wh,rnn_b,stateful=True),\n",
    "            TimeAffine(affine_W,affine_b)\n",
    "        ]\n",
    "        self.loss_layer = TimeSoftmaxWithLoss()\n",
    "        self.rnn_layer = self.layers[1]\n",
    "        \n",
    "        self.params,self.grads = [],[]\n",
    "        for layer in self.layers:\n",
    "            self.params += layer.params\n",
    "            self.grads += layer.grads\n",
    "        \n",
    "    def forward(self,xs,ts):\n",
    "        for layer in self.layers:\n",
    "            xs = layer.forward(xs)\n",
    "        loss = self.loss_layer.forward(xs,ts)\n",
    "        return loss\n",
    "        \n",
    "    def backward(self,dout=1):\n",
    "        dout = self.loss_layer.backward(dout)\n",
    "        for layer in reversed(self.layers):\n",
    "            dout = layer.backward(dout)\n",
    "        return dout\n",
    "        \n",
    "    def reset_state(self):\n",
    "        self.rnn_layer.reset_state()"
   ]
  },
  {
   "cell_type": "code",
   "execution_count": 1,
   "metadata": {},
   "outputs": [],
   "source": [
    "# batch_size = 10\n",
    "# wordvec_size = 100\n",
    "# hidden_size = 100\n",
    "# time_size = 5\n",
    "# lr = 0.01\n",
    "# max_epoch = 100\n",
    "\n",
    "# corpus, word_to_id, id_to_word = ptb.load_data('train')\n",
    "# corpus_size = 1000\n",
    "# corpus = corpus[:corpus_size]\n",
    "# vocab_size = int(max(corpus) + 1)\n",
    "\n",
    "# xs = corpus[:-1]\n",
    "# ts = corpus[1:]\n",
    "# data_size = len(xs)\n",
    "# print('corpus size: %d, vocabulary size: %d' % (corpus_size, vocab_size))\n",
    "\n",
    "# max_iters = data_size // (batch_size * time_size)\n",
    "# time_idx = 0\n",
    "# total_loss = 0\n",
    "# loss_count = 0\n",
    "# ppl_list = []\n",
    "# model = SimpleRnnlm(vocab_size,wordvec_size,hidden_size)\n",
    "# optimizer = SGD(lr)\n",
    "\n",
    "# jump = (corpus_size - 1) // batch_size\n",
    "# offsets = [i * jump for i in range(batch_size)]\n",
    "\n",
    "# for epoch in range(max_epoch):\n",
    "#     for iter in range(max_iters):\n",
    "#         batch_x = np.empty((batch_size, time_size), dtype='i')\n",
    "#         batch_Y = np.empty((batch_size, time_size), dtype='i')\n",
    "#         for t in range(time_size):\n",
    "#             for i,offset in enumerate(offsets):\n",
    "#                 batch_x[i,t] = xs[(offset + time_idx) % data_size]\n",
    "#                 batch_Y[i,t] = ts[(offset + time_idx) % data_size]\n",
    "#             time_idx += 1\n",
    "            \n",
    "#             loss = model.forward(batch_x,batch_Y)\n",
    "#             model.backward()\n",
    "#             optimizer.update(model.params, model.grads)\n",
    "#             total_loss += loss\n",
    "#             loss_count += 1\n",
    "        \n",
    "#         ppl = np.exp(total_loss / loss_count)\n",
    "#         print('| epoch %d | perplexity %.2f' % (epoch+1, ppl))\n",
    "#         ppl_list.append(float(ppl))\n",
    "#         total_loss, loss_count = 0,0"
   ]
  },
  {
   "cell_type": "code",
   "execution_count": null,
   "metadata": {},
   "outputs": [],
   "source": []
  }
 ],
 "metadata": {
  "kernelspec": {
   "display_name": "Python 3",
   "language": "python",
   "name": "python3"
  },
  "language_info": {
   "codemirror_mode": {
    "name": "ipython",
    "version": 3
   },
   "file_extension": ".py",
   "mimetype": "text/x-python",
   "name": "python",
   "nbconvert_exporter": "python",
   "pygments_lexer": "ipython3",
   "version": "3.7.4"
  }
 },
 "nbformat": 4,
 "nbformat_minor": 4
}
