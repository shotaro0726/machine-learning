{
 "cells": [
  {
   "cell_type": "code",
   "execution_count": 4,
   "metadata": {},
   "outputs": [],
   "source": [
    "import numpy as np"
   ]
  },
  {
   "cell_type": "code",
   "execution_count": 5,
   "metadata": {},
   "outputs": [],
   "source": [
    "class SGD:\n",
    "    def __init__(self,lr=0.01):\n",
    "        self.lr = lr\n",
    "    \n",
    "    def update(self,params,grads):\n",
    "        for key in params.keys():\n",
    "            params[key] -= self.lr * grads[key]"
   ]
  },
  {
   "cell_type": "code",
   "execution_count": 7,
   "metadata": {},
   "outputs": [],
   "source": [
    "class Momentum:\n",
    "    def __init__(self,lr=0.01,momentum=0.9):\n",
    "        self.lr = lr\n",
    "        self.momentum = momentum\n",
    "        self.v = None\n",
    "    \n",
    "    def update(self,params,grads):\n",
    "        if self.v is None:\n",
    "            self.v = {}\n",
    "            for key, val in params.items():\n",
    "                self.v[key]= np.zeros_like(val)\n",
    "        \n",
    "        for key in params.keys():\n",
    "            self.v[key] = self.momentum*self.v[key] - self.lr*grads[key]\n",
    "            params[key] += self.v[key]"
   ]
  },
  {
   "cell_type": "code",
   "execution_count": 8,
   "metadata": {},
   "outputs": [],
   "source": [
    "class AdaGrad:\n",
    "    def __init__(self, lr=0.01):\n",
    "        self.lr = lr\n",
    "        self.h = None\n",
    "    \n",
    "    def update(self,params,grads):\n",
    "        if self.h is None:\n",
    "            self.h = {}\n",
    "            for key, val in params.items():\n",
    "                self.h[key] = np.zeros_like(val)\n",
    "        \n",
    "        for key in params.keys():\n",
    "            self.h[key] += grads[key] * grads[key]\n",
    "            params[key] -= self.lr * grads[key] / (np.sqrt(self.h[key]) + 1e-7)"
   ]
  },
  {
   "cell_type": "code",
   "execution_count": 17,
   "metadata": {},
   "outputs": [],
   "source": [
    "import matplotlib.pyplot as plt\n",
    "\n",
    "def sigmoid(x):\n",
    "    return 1 / (1 + np.exp(-x))\n",
    "\n",
    "x = np.random.randn(1000,100)\n",
    "node_num = 100\n",
    "hidden_layer_size = 5\n",
    "activations = {}\n",
    "\n",
    "for i in range(hidden_layer_size):\n",
    "    if i != 0:\n",
    "        x = activations[i - 1]\n",
    "        \n",
    "    w = np.random.randn(node_num, node_num) * 0.01\n",
    "    \n",
    "    z = np.dot(x,w)\n",
    "    a = sigmoid(z)\n",
    "    activations[i] = a"
   ]
  },
  {
   "cell_type": "code",
   "execution_count": 29,
   "metadata": {},
   "outputs": [
    {
     "data": {
      "image/png": "[encoded data removed]",
      "text/plain": [
       "<Figure size 432x288 with 5 Axes>"
      ]
     },
     "metadata": {
      "needs_background": "light"
     },
     "output_type": "display_data"
    }
   ],
   "source": [
    "for i, a in activations.items():\n",
    "    plt.subplot(1, len(activations), i+1)\n",
    "    plt.title(str(i+1) + \"-layer\")\n",
    "    if i != 0: plt.yticks([], [])\n",
    "    # plt.xlim(0.1, 1)\n",
    "    # plt.ylim(0, 7000)\n",
    "    plt.hist(a.flatten(), 30, range=(0,1))\n",
    "plt.show()"
   ]
  },
  {
   "cell_type": "code",
   "execution_count": 15,
   "metadata": {},
   "outputs": [],
   "source": [
    "w = np.random.randn(node_num, node_num) * 0.01"
   ]
  },
  {
   "cell_type": "code",
   "execution_count": 16,
   "metadata": {},
   "outputs": [
    {
     "data": {
      "text/plain": [
       "array([[-2.04942999e-03,  4.15579442e-03, -5.64491140e-03, ...,\n",
       "        -3.65471153e-03,  1.98367234e-02, -7.84462440e-03],\n",
       "       [ 1.06557386e-02,  1.13027508e-02,  7.87782077e-03, ...,\n",
       "         2.02697590e-02,  3.78635075e-03, -1.17057732e-02],\n",
       "       [ 6.32668612e-03,  9.02329318e-03,  1.99822334e-03, ...,\n",
       "         9.63643951e-03, -8.67864832e-03,  1.92913401e-02],\n",
       "       ...,\n",
       "       [ 3.42093181e-03, -1.25414012e-02, -6.15267160e-03, ...,\n",
       "         1.61573269e-03,  7.07088261e-03,  4.83209643e-03],\n",
       "       [ 3.77431841e-04, -7.62464823e-03, -1.37813720e-02, ...,\n",
       "        -1.27173823e-02, -2.76331393e-02, -1.49832826e-03],\n",
       "       [-3.89131490e-03,  1.06409575e-02,  1.33339466e-03, ...,\n",
       "        -5.18875894e-03,  2.60073239e-03,  6.73284043e-05]])"
      ]
     },
     "execution_count": 16,
     "metadata": {},
     "output_type": "execute_result"
    }
   ],
   "source": [
    "w"
   ]
  },
  {
   "cell_type": "code",
   "execution_count": 33,
   "metadata": {},
   "outputs": [
    {
     "name": "stdout",
     "output_type": "stream",
     "text": [
      "===========iteration:0===========\n",
      "std=0.01:2.3025216465950353\n",
      "Xavier:2.2917828305033696\n",
      "He:2.504323966314911\n",
      "===========iteration:100===========\n",
      "std=0.01:2.301059280860878\n",
      "Xavier:2.2647348563045355\n",
      "He:1.5851730435117406\n",
      "===========iteration:200===========\n",
      "std=0.01:2.298849537039633\n",
      "Xavier:2.13710197495498\n",
      "He:0.8268232057915508\n",
      "===========iteration:300===========\n",
      "std=0.01:2.305441065453333\n",
      "Xavier:1.9688841133606239\n",
      "He:0.6776557941020351\n",
      "===========iteration:400===========\n",
      "std=0.01:2.302220318416799\n",
      "Xavier:1.4904118665631265\n",
      "He:0.4807612952830817\n",
      "===========iteration:500===========\n",
      "std=0.01:2.304001970114155\n",
      "Xavier:1.00919600387449\n",
      "He:0.28811610118361647\n",
      "===========iteration:600===========\n",
      "std=0.01:2.2994421716148423\n",
      "Xavier:0.6552876048380661\n",
      "He:0.29556169988465086\n",
      "===========iteration:700===========\n",
      "std=0.01:2.301696439578715\n",
      "Xavier:0.66381550171776\n",
      "He:0.3875762839761564\n",
      "===========iteration:800===========\n",
      "std=0.01:2.301292256676842\n",
      "Xavier:0.5856751950270075\n",
      "He:0.4102385196066758\n",
      "===========iteration:900===========\n",
      "std=0.01:2.306281889297388\n",
      "Xavier:0.44784727668502244\n",
      "He:0.24779835360008742\n",
      "===========iteration:1000===========\n",
      "std=0.01:2.3061967169389987\n",
      "Xavier:0.4336845512015861\n",
      "He:0.30767420786667476\n",
      "===========iteration:1100===========\n",
      "std=0.01:2.3038998252941045\n",
      "Xavier:0.598702748533555\n",
      "He:0.46906143666930333\n",
      "===========iteration:1200===========\n",
      "std=0.01:2.3007886004960474\n",
      "Xavier:0.5681583752654111\n",
      "He:0.4503291764186148\n",
      "===========iteration:1300===========\n",
      "std=0.01:2.305394569057088\n",
      "Xavier:0.331056430361009\n",
      "He:0.21847631688164676\n",
      "===========iteration:1400===========\n",
      "std=0.01:2.299151543895441\n",
      "Xavier:0.3133321132668619\n",
      "He:0.20898893268270974\n",
      "===========iteration:1500===========\n",
      "std=0.01:2.3002103837799153\n",
      "Xavier:0.3922831566556817\n",
      "He:0.27083271237497347\n",
      "===========iteration:1600===========\n",
      "std=0.01:2.3037153928101777\n",
      "Xavier:0.321732542976096\n",
      "He:0.22175088234401133\n",
      "===========iteration:1700===========\n",
      "std=0.01:2.3016539254703456\n",
      "Xavier:0.41912920091932926\n",
      "He:0.3159208375788233\n",
      "===========iteration:1800===========\n",
      "std=0.01:2.3037207506953794\n",
      "Xavier:0.38320727990610415\n",
      "He:0.3027466245228203\n",
      "===========iteration:1900===========\n",
      "std=0.01:2.3019855223376466\n",
      "Xavier:0.31775203200089536\n",
      "He:0.1691291700748146\n"
     ]
    },
    {
     "data": {
      "image/png": "[encoded data removed]",
      "text/plain": [
       "<Figure size 432x288 with 1 Axes>"
      ]
     },
     "metadata": {
      "needs_background": "light"
     },
     "output_type": "display_data"
    }
   ],
   "source": [
    "import os\n",
    "import sys\n",
    "\n",
    "sys.path.append(os.pardir)  \n",
    "import numpy as np\n",
    "import matplotlib.pyplot as plt\n",
    "from mnist import load_mnist\n",
    "from util import smooth_curve\n",
    "from multi_layer_net import MultiLayerNet\n",
    "from optimizer import SGD\n",
    "\n",
    "\n",
    "(x_train, t_train), (x_test, t_test) = load_mnist(normalize=True)\n",
    "\n",
    "train_size = x_train.shape[0]\n",
    "batch_size = 128\n",
    "max_iterations = 2000\n",
    "\n",
    "\n",
    "weight_init_types = {'std=0.01': 0.01, 'Xavier': 'sigmoid', 'He': 'relu'}\n",
    "optimizer = SGD(lr=0.01)\n",
    "\n",
    "networks = {}\n",
    "train_loss = {}\n",
    "for key, weight_type in weight_init_types.items():\n",
    "    networks[key] = MultiLayerNet(input_size=784, hidden_size_list=[100, 100, 100, 100],\n",
    "                                  output_size=10, weight_init_std=weight_type)\n",
    "    train_loss[key] = []\n",
    "\n",
    "\n",
    "for i in range(max_iterations):\n",
    "    batch_mask = np.random.choice(train_size, batch_size)\n",
    "    x_batch = x_train[batch_mask]\n",
    "    t_batch = t_train[batch_mask]\n",
    "    \n",
    "    for key in weight_init_types.keys():\n",
    "        grads = networks[key].gradient(x_batch, t_batch)\n",
    "        optimizer.update(networks[key].params, grads)\n",
    "    \n",
    "        loss = networks[key].loss(x_batch, t_batch)\n",
    "        train_loss[key].append(loss)\n",
    "    \n",
    "    if i % 100 == 0:\n",
    "        print(\"===========\" + \"iteration:\" + str(i) + \"===========\")\n",
    "        for key in weight_init_types.keys():\n",
    "            loss = networks[key].loss(x_batch, t_batch)\n",
    "            print(key + \":\" + str(loss))\n",
    "\n",
    "\n",
    "markers = {'std=0.01': 'o', 'Xavier': 's', 'He': 'D'}\n",
    "x = np.arange(max_iterations)\n",
    "for key in weight_init_types.keys():\n",
    "    plt.plot(x, smooth_curve(train_loss[key]), marker=markers[key], markevery=100, label=key)\n",
    "plt.xlabel(\"iterations\")\n",
    "plt.ylabel(\"loss\")\n",
    "plt.ylim(0, 2.5)\n",
    "plt.legend()\n",
    "plt.show()"
   ]
  },
  {
   "cell_type": "code",
   "execution_count": 34,
   "metadata": {},
   "outputs": [],
   "source": [
    "class Dropout:\n",
    "    def __init__(self,dropout_ratio=0.5):\n",
    "        self.dropout_ratio = dropout_ratio\n",
    "        self.mask = None\n",
    "        \n",
    "    \n",
    "    def forward(self,x,train_flg=True):\n",
    "        if train_flg:\n",
    "            self.mask = np.random.randn(*x.shape) > self.dropout_ratio\n",
    "            return x * self.mask\n",
    "        else:\n",
    "            return x * (1.0 - self.dropout_ratio)\n",
    "    \n",
    "    def backward(self,dout):\n",
    "        return dout * self.mask"
   ]
  },
  {
   "cell_type": "code",
   "execution_count": null,
   "metadata": {},
   "outputs": [],
   "source": []
  }
 ],
 "metadata": {
  "kernelspec": {
   "display_name": "Python 3",
   "language": "python",
   "name": "python3"
  },
  "language_info": {
   "codemirror_mode": {
    "name": "ipython",
    "version": 3
   },
   "file_extension": ".py",
   "mimetype": "text/x-python",
   "name": "python",
   "nbconvert_exporter": "python",
   "pygments_lexer": "ipython3",
   "version": "3.7.4"
  }
 },
 "nbformat": 4,
 "nbformat_minor": 4
}
