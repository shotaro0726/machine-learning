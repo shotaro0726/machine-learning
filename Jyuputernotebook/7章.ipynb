{
 "cells": [
  {
   "cell_type": "code",
   "execution_count": 2,
   "metadata": {},
   "outputs": [
    {
     "name": "stdout",
     "output_type": "stream",
     "text": [
      "(9, 75)\n",
      "(90, 75)\n"
     ]
    }
   ],
   "source": [
    "import numpy as np\n",
    "import sys,os\n",
    "sys.path.append(os.pardir)\n",
    "from util import im2col\n",
    "\n",
    "x1 = np.random.rand(1,3,7,7)\n",
    "coll = im2col(x1,5,5,stride=1,pad=0)\n",
    "print(coll.shape)\n",
    "\n",
    "x2 = np.random.rand(10,3,7,7)\n",
    "coll = im2col(x2,5,5,stride=1,pad=0)\n",
    "print(coll.shape)"
   ]
  },
  {
   "cell_type": "code",
   "execution_count": 4,
   "metadata": {},
   "outputs": [],
   "source": [
    "class Convolution:\n",
    "    def __init__(self,w,b,stride=1,pad=0):\n",
    "        self.w = w\n",
    "        self.b = b\n",
    "        self.stride = stride\n",
    "        self.pad = pad\n",
    "    \n",
    "    def forward(self,x):\n",
    "        fn,c,fh,fw = self.w.shape\n",
    "        n,c,h,w = x.shape\n",
    "        out_h = int(1 + (h + 2*self.pad - fh) / self.stride)\n",
    "        out_w = int(1 + (w + 2*self.pad - fh) / self.stride)\n",
    "        \n",
    "        col = im2col(x,fh,fw,self.stride,self.pad)\n",
    "        col_w = self.w.reshape(fn, -1).T\n",
    "        out = np.dot(col,col_w) + self.b\n",
    "        \n",
    "        out = out.reshape(n, out_h,out_w, -1).transpose(0,3,1,2)\n",
    "        \n",
    "        return out"
   ]
  },
  {
   "cell_type": "code",
   "execution_count": 5,
   "metadata": {},
   "outputs": [],
   "source": [
    "class Pooling:\n",
    "    def __init__(self,pool_h,pool_w,stride=1,pad=0):\n",
    "        self.pool_h = pool_h\n",
    "        self.pool_w = pool_w\n",
    "        self.stride = stride\n",
    "        self.pad = pad\n",
    "    \n",
    "    def forward(self,x):\n",
    "        n,c,h,w = x.shape\n",
    "        out_h = int(1 + (h - self.pool_h) / self.stride)\n",
    "        out_w = int(1 + (w - self.pool_w) / self.stride)\n",
    "        \n",
    "        col = im2col(x,self.pool_h,self.pool_w,self.stride,self.pad)\n",
    "        col = col.reshape(-1,self.pool_h * self.pool_w)\n",
    "        \n",
    "        out = np.max(col,axis=1)\n",
    "        out = out.reshape(n,out_h,out_w,c).transpose(0,3,1,2)\n",
    "        \n",
    "        return out"
   ]
  },
  {
   "cell_type": "code",
   "execution_count": 9,
   "metadata": {},
   "outputs": [],
   "source": [
    "class SimpleConvNet:\n",
    "    def __init__(self,input_dim=(1,28,28),conv_param={'filter_num':30,'filter_size':5,'pad':0,'stride':1},\n",
    "                 hidden_size=100, output_size=10,weight_init_std=0.01):\n",
    "        filter_num = conv_param['filter_num']\n",
    "        filter_size =conv_param['filter_size']\n",
    "        filter_pad = conv_param['pad']\n",
    "        filter_stride = conv_param['stride']\n",
    "        input_size = input_dim[1]\n",
    "        conv_output_size = (input_size - filter_size + 2 * filter_pad)/\\\n",
    "                            filter_stride + 1\n",
    "        pool_output_size = int(filter_num*(conv_output_size/2) * (conv_output_size/2))\n",
    "        \n",
    "        self.params = {}\n",
    "        self.params['w1'] = weight_init_std * \\\n",
    "                            np.random.randn(filter_num,input_dim[0],filter_size,filter_size)\n",
    "        self.params['b1'] = np.zeros(filter_num)\n",
    "        self.params['w2'] = weight_init_std * \\\n",
    "                            np.random.randn(pool_output_size,hidden_size)\n",
    "        self.params['b2'] = np.zeros(filter_num)\n",
    "        self.params['w2'] = weight_init_std * \\\n",
    "                            np.random.randn(hidden_size,output_size)\n",
    "        self.params['b3'] = np.zeros(filter_num)\n",
    "        \n",
    "        self.layers = OrderedDict()\n",
    "        self.layers['conv1'] = Convolution(self.params['w1'],self.params['b1'],conv_param['stride'],conv_param['pad'])\n",
    "        self.layers['relu1'] = Relu()\n",
    "        self.layers['pool1'] = Pooling(pool_h=2,pool_w=2,stride=2)\n",
    "        self.layers['affinel'] = Affine(self.params['w2'],self.params['b2'])\n",
    "        self.layers['relu2'] = Relu()\n",
    "        self.layers['affine2'] = Affine(self.params['w3'],self.params['b3'])\n",
    "        self.last_layer = SoftmaxWithLoss()"
   ]
  },
  {
   "cell_type": "code",
   "execution_count": 10,
   "metadata": {},
   "outputs": [],
   "source": [
    "def predict(self,x):\n",
    "    for layer in self.layers.values():\n",
    "        x = layer.forward(x)\n",
    "    return x\n",
    "\n",
    "def loss(self,x,t):\n",
    "    y = self.predict(x)\n",
    "    return self.last_layer.forward(y,t)"
   ]
  },
  {
   "cell_type": "code",
   "execution_count": 11,
   "metadata": {},
   "outputs": [],
   "source": [
    "def gradient(self,x,t):\n",
    "    self.loss(x,t)\n",
    "    \n",
    "    dout = 1\n",
    "    dout = self.last_layer.backward(dout)\n",
    "    \n",
    "    layers = list(self.layers.values())\n",
    "    layers.reverse()\n",
    "    for layer in layers:\n",
    "        dout = layer.backward(dout)\n",
    "        \n",
    "        grads = {}\n",
    "        grads['w1'] = self.layers['conv1'].dw\n",
    "        grads['b1'] = self.layers['conv1'].db\n",
    "        grads['w2'] = self.layers['affine1'].dw\n",
    "        grads['b2'] = self.layers['affine1'].db\n",
    "        grads['w3'] = self.layers['affine2'].dw\n",
    "        grads['b3'] = self.layers['affine2'].db\n",
    "        \n",
    "        return grads"
   ]
  },
  {
   "cell_type": "code",
   "execution_count": null,
   "metadata": {},
   "outputs": [],
   "source": []
  }
 ],
 "metadata": {
  "kernelspec": {
   "display_name": "Python 3",
   "language": "python",
   "name": "python3"
  },
  "language_info": {
   "codemirror_mode": {
    "name": "ipython",
    "version": 3
   },
   "file_extension": ".py",
   "mimetype": "text/x-python",
   "name": "python",
   "nbconvert_exporter": "python",
   "pygments_lexer": "ipython3",
   "version": "3.7.4"
  }
 },
 "nbformat": 4,
 "nbformat_minor": 4
}
