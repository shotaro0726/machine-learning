{
 "cells": [
  {
   "cell_type": "code",
   "execution_count": 1,
   "metadata": {},
   "outputs": [],
   "source": [
    "import urllib3\n",
    "from bs4 import BeautifulSoup\n",
    "from datetime import datetime\n",
    "import csv\n",
    "import time"
   ]
  },
  {
   "cell_type": "code",
   "execution_count": 2,
   "metadata": {},
   "outputs": [],
   "source": [
    "time_flag = True"
   ]
  },
  {
   "cell_type": "code",
   "execution_count": null,
   "metadata": {},
   "outputs": [],
   "source": [
    "while True:\n",
    "    if datetime.now().minute != 59:\n",
    "        time.sleep(58)\n",
    "        continue\n",
    "    with open('amazon.csv','a') as f:\n",
    "        writer = csv.writer(f,lineterminator='\\n')\n",
    "        \n",
    "        while datetime.now().second != 59:\n",
    "            time.sleep(1)\n",
    "        time.sleep(1)\n",
    "        \n",
    "        csv_list = []\n",
    "        time_ = datetime.now().strftime(\"%Y/%m/%d %H:%M:%S\")\n",
    "        csv_list.append(time_)\n",
    "        \n",
    "        url = \"https://www.amazon.co.jp/gp/goldbox/?nocache=1579714016247\"\n",
    "        html = requests.get(url)\n",
    "        soup = BeautifulSoup(html, \"html.parser\")\n",
    "        span = soup.find_all(\"span\")\n",
    "        writer = csv.writer(f)"
   ]
  },
  {
   "cell_type": "code",
   "execution_count": null,
   "metadata": {},
   "outputs": [],
   "source": []
  }
 ],
 "metadata": {
  "kernelspec": {
   "display_name": "Python 3",
   "language": "python",
   "name": "python3"
  },
  "language_info": {
   "codemirror_mode": {
    "name": "ipython",
    "version": 3
   },
   "file_extension": ".py",
   "mimetype": "text/x-python",
   "name": "python",
   "nbconvert_exporter": "python",
   "pygments_lexer": "ipython3",
   "version": "3.7.4"
  }
 },
 "nbformat": 4,
 "nbformat_minor": 4
}
